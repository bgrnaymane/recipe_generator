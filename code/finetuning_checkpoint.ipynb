{
  "cells": [
    {
      "cell_type": "markdown",
      "metadata": {
        "id": "view-in-github",
        "colab_type": "text"
      },
      "source": [
        "<a href=\"https://colab.research.google.com/github/bgrnaymane/recipe_generator/blob/main/finetuning_checkpoint.ipynb\" target=\"_parent\"><img src=\"https://colab.research.google.com/assets/colab-badge.svg\" alt=\"Open In Colab\"/></a>"
      ]
    },
    {
      "cell_type": "code",
      "source": [
        "from google.colab import drive\n",
        "drive.mount('/content/drive')"
      ],
      "metadata": {
        "colab": {
          "base_uri": "https://localhost:8080/"
        },
        "id": "IrKOOmqZthl8",
        "outputId": "5583779f-594b-4901-faa8-9b3ae273495a"
      },
      "id": "IrKOOmqZthl8",
      "execution_count": 1,
      "outputs": [
        {
          "output_type": "stream",
          "name": "stdout",
          "text": [
            "Drive already mounted at /content/drive; to attempt to forcibly remount, call drive.mount(\"/content/drive\", force_remount=True).\n"
          ]
        }
      ]
    },
    {
      "cell_type": "code",
      "source": [
        "!pip3 install transformers"
      ],
      "metadata": {
        "colab": {
          "base_uri": "https://localhost:8080/"
        },
        "id": "CQDucX6-uGNK",
        "outputId": "3a2d88ac-fc70-49d4-f146-7cdc44c58604"
      },
      "id": "CQDucX6-uGNK",
      "execution_count": 2,
      "outputs": [
        {
          "output_type": "stream",
          "name": "stdout",
          "text": [
            "Requirement already satisfied: transformers in /usr/local/lib/python3.10/dist-packages (4.30.2)\n",
            "Requirement already satisfied: filelock in /usr/local/lib/python3.10/dist-packages (from transformers) (3.12.2)\n",
            "Requirement already satisfied: huggingface-hub<1.0,>=0.14.1 in /usr/local/lib/python3.10/dist-packages (from transformers) (0.16.2)\n",
            "Requirement already satisfied: numpy>=1.17 in /usr/local/lib/python3.10/dist-packages (from transformers) (1.22.4)\n",
            "Requirement already satisfied: packaging>=20.0 in /usr/local/lib/python3.10/dist-packages (from transformers) (23.1)\n",
            "Requirement already satisfied: pyyaml>=5.1 in /usr/local/lib/python3.10/dist-packages (from transformers) (6.0)\n",
            "Requirement already satisfied: regex!=2019.12.17 in /usr/local/lib/python3.10/dist-packages (from transformers) (2022.10.31)\n",
            "Requirement already satisfied: requests in /usr/local/lib/python3.10/dist-packages (from transformers) (2.27.1)\n",
            "Requirement already satisfied: tokenizers!=0.11.3,<0.14,>=0.11.1 in /usr/local/lib/python3.10/dist-packages (from transformers) (0.13.3)\n",
            "Requirement already satisfied: safetensors>=0.3.1 in /usr/local/lib/python3.10/dist-packages (from transformers) (0.3.1)\n",
            "Requirement already satisfied: tqdm>=4.27 in /usr/local/lib/python3.10/dist-packages (from transformers) (4.65.0)\n",
            "Requirement already satisfied: fsspec in /usr/local/lib/python3.10/dist-packages (from huggingface-hub<1.0,>=0.14.1->transformers) (2023.6.0)\n",
            "Requirement already satisfied: typing-extensions>=3.7.4.3 in /usr/local/lib/python3.10/dist-packages (from huggingface-hub<1.0,>=0.14.1->transformers) (4.6.3)\n",
            "Requirement already satisfied: urllib3<1.27,>=1.21.1 in /usr/local/lib/python3.10/dist-packages (from requests->transformers) (1.26.16)\n",
            "Requirement already satisfied: certifi>=2017.4.17 in /usr/local/lib/python3.10/dist-packages (from requests->transformers) (2023.5.7)\n",
            "Requirement already satisfied: charset-normalizer~=2.0.0 in /usr/local/lib/python3.10/dist-packages (from requests->transformers) (2.0.12)\n",
            "Requirement already satisfied: idna<4,>=2.5 in /usr/local/lib/python3.10/dist-packages (from requests->transformers) (3.4)\n"
          ]
        }
      ]
    },
    {
      "cell_type": "code",
      "execution_count": 3,
      "id": "8f079163",
      "metadata": {
        "_cell_guid": "b1076dfc-b9ad-4769-8c92-a6c4dae69d19",
        "_uuid": "8f2839f25d086af736a60e9eeb907d3b93b6e0e5",
        "execution": {
          "iopub.execute_input": "2023-02-17T13:33:47.715192Z",
          "iopub.status.busy": "2023-02-17T13:33:47.714740Z",
          "iopub.status.idle": "2023-02-17T13:33:57.255131Z",
          "shell.execute_reply": "2023-02-17T13:33:57.254011Z"
        },
        "papermill": {
          "duration": 9.551122,
          "end_time": "2023-02-17T13:33:57.257793",
          "exception": false,
          "start_time": "2023-02-17T13:33:47.706671",
          "status": "completed"
        },
        "tags": [],
        "id": "8f079163"
      },
      "outputs": [],
      "source": [
        "import torch\n",
        "import torch.nn as nn\n",
        "from transformers import GPT2TokenizerFast, GPT2LMHeadModel\n",
        "\n",
        "from transformers import Trainer, TrainingArguments\n",
        "\n",
        "from tqdm.auto import tqdm\n",
        "\n",
        "import pandas as pd\n",
        "import numpy as np\n"
      ]
    },
    {
      "cell_type": "code",
      "execution_count": 4,
      "id": "6be05272",
      "metadata": {
        "execution": {
          "iopub.execute_input": "2023-02-17T13:33:57.272785Z",
          "iopub.status.busy": "2023-02-17T13:33:57.271449Z",
          "iopub.status.idle": "2023-02-17T13:33:57.277196Z",
          "shell.execute_reply": "2023-02-17T13:33:57.276267Z"
        },
        "papermill": {
          "duration": 0.015274,
          "end_time": "2023-02-17T13:33:57.279378",
          "exception": false,
          "start_time": "2023-02-17T13:33:57.264104",
          "status": "completed"
        },
        "tags": [],
        "id": "6be05272"
      },
      "outputs": [],
      "source": [
        "model_name = 'gpt2'"
      ]
    },
    {
      "cell_type": "code",
      "execution_count": 5,
      "id": "ff7582eb",
      "metadata": {
        "execution": {
          "iopub.execute_input": "2023-02-17T13:33:57.292669Z",
          "iopub.status.busy": "2023-02-17T13:33:57.291985Z",
          "iopub.status.idle": "2023-02-17T13:33:57.296657Z",
          "shell.execute_reply": "2023-02-17T13:33:57.295744Z"
        },
        "papermill": {
          "duration": 0.013451,
          "end_time": "2023-02-17T13:33:57.298666",
          "exception": false,
          "start_time": "2023-02-17T13:33:57.285215",
          "status": "completed"
        },
        "tags": [],
        "id": "ff7582eb"
      },
      "outputs": [],
      "source": [
        "model_save_path = '/content/drive/MyDrive/Colab Notebooks/Machine Learning Project/model'"
      ]
    },
    {
      "cell_type": "code",
      "execution_count": 6,
      "id": "70b82f57",
      "metadata": {
        "execution": {
          "iopub.execute_input": "2023-02-17T13:33:57.311888Z",
          "iopub.status.busy": "2023-02-17T13:33:57.311026Z",
          "iopub.status.idle": "2023-02-17T13:34:24.634146Z",
          "shell.execute_reply": "2023-02-17T13:34:24.633132Z"
        },
        "papermill": {
          "duration": 27.331954,
          "end_time": "2023-02-17T13:34:24.636496",
          "exception": false,
          "start_time": "2023-02-17T13:33:57.304542",
          "status": "completed"
        },
        "tags": [],
        "id": "70b82f57",
        "outputId": "20386931-78c3-4a48-9120-4a61ef69e09e",
        "colab": {
          "base_uri": "https://localhost:8080/"
        }
      },
      "outputs": [
        {
          "output_type": "stream",
          "name": "stderr",
          "text": [
            "Special tokens have been added in the vocabulary, make sure the associated word embeddings are fine-tuned or trained.\n"
          ]
        },
        {
          "output_type": "execute_result",
          "data": {
            "text/plain": [
              "Embedding(50260, 768)"
            ]
          },
          "metadata": {},
          "execution_count": 6
        }
      ],
      "source": [
        "tokenizer = GPT2TokenizerFast.from_pretrained(model_name,\n",
        "                                              bos_token='<|startoftext|>',\n",
        "                                              eos_token='<|endoftext|>',\n",
        "                                              unk_token='<|unknown|>',\n",
        "                                              pad_token='<|pad|>'\n",
        "                                             )\n",
        "model = GPT2LMHeadModel.from_pretrained(model_name)\n",
        "model.resize_token_embeddings(len(tokenizer))"
      ]
    },
    {
      "cell_type": "code",
      "execution_count": 7,
      "id": "9a1da0a5",
      "metadata": {
        "execution": {
          "iopub.execute_input": "2023-02-17T13:34:24.651601Z",
          "iopub.status.busy": "2023-02-17T13:34:24.651267Z",
          "iopub.status.idle": "2023-02-17T13:34:24.770213Z",
          "shell.execute_reply": "2023-02-17T13:34:24.769172Z"
        },
        "papermill": {
          "duration": 0.128834,
          "end_time": "2023-02-17T13:34:24.772571",
          "exception": false,
          "start_time": "2023-02-17T13:34:24.643737",
          "status": "completed"
        },
        "tags": [],
        "id": "9a1da0a5",
        "outputId": "7cb28b69-9d8c-4541-fac5-490a55f1ddee",
        "colab": {
          "base_uri": "https://localhost:8080/"
        }
      },
      "outputs": [
        {
          "output_type": "execute_result",
          "data": {
            "text/plain": [
              "('/content/drive/MyDrive/Colab Notebooks/Machine Learning Project/model/tokenizer_config.json',\n",
              " '/content/drive/MyDrive/Colab Notebooks/Machine Learning Project/model/special_tokens_map.json',\n",
              " '/content/drive/MyDrive/Colab Notebooks/Machine Learning Project/model/vocab.json',\n",
              " '/content/drive/MyDrive/Colab Notebooks/Machine Learning Project/model/merges.txt',\n",
              " '/content/drive/MyDrive/Colab Notebooks/Machine Learning Project/model/added_tokens.json',\n",
              " '/content/drive/MyDrive/Colab Notebooks/Machine Learning Project/model/tokenizer.json')"
            ]
          },
          "metadata": {},
          "execution_count": 7
        }
      ],
      "source": [
        "tokenizer.save_pretrained(model_save_path)"
      ]
    },
    {
      "cell_type": "code",
      "execution_count": 8,
      "id": "bc39f5ae",
      "metadata": {
        "execution": {
          "iopub.execute_input": "2023-02-17T13:34:24.786887Z",
          "iopub.status.busy": "2023-02-17T13:34:24.786577Z",
          "iopub.status.idle": "2023-02-17T13:34:24.793202Z",
          "shell.execute_reply": "2023-02-17T13:34:24.792157Z"
        },
        "papermill": {
          "duration": 0.01732,
          "end_time": "2023-02-17T13:34:24.796348",
          "exception": false,
          "start_time": "2023-02-17T13:34:24.779028",
          "status": "completed"
        },
        "tags": [],
        "id": "bc39f5ae",
        "outputId": "d7eb02a7-e001-417d-fe4f-009ad380aa4a",
        "colab": {
          "base_uri": "https://localhost:8080/"
        }
      },
      "outputs": [
        {
          "output_type": "execute_result",
          "data": {
            "text/plain": [
              "[50259]"
            ]
          },
          "metadata": {},
          "execution_count": 8
        }
      ],
      "source": [
        "tokenizer.convert_tokens_to_ids(['<|pad|>'])"
      ]
    },
    {
      "cell_type": "code",
      "execution_count": 9,
      "id": "23756709",
      "metadata": {
        "execution": {
          "iopub.execute_input": "2023-02-17T13:34:24.811848Z",
          "iopub.status.busy": "2023-02-17T13:34:24.811588Z",
          "iopub.status.idle": "2023-02-17T13:34:24.816657Z",
          "shell.execute_reply": "2023-02-17T13:34:24.815723Z"
        },
        "papermill": {
          "duration": 0.014564,
          "end_time": "2023-02-17T13:34:24.818777",
          "exception": false,
          "start_time": "2023-02-17T13:34:24.804213",
          "status": "completed"
        },
        "tags": [],
        "id": "23756709"
      },
      "outputs": [],
      "source": [
        "def generate(prompt):\n",
        "    inputs = tokenizer.encode_plus(prompt, return_tensors='pt')\n",
        "    output = model.generate(**inputs,max_length=256,do_sample=True,pad_token_id=50259)\n",
        "    print(tokenizer.decode(output[0]))"
      ]
    },
    {
      "cell_type": "code",
      "execution_count": 10,
      "id": "11a6c391",
      "metadata": {
        "execution": {
          "iopub.execute_input": "2023-02-17T13:34:24.833203Z",
          "iopub.status.busy": "2023-02-17T13:34:24.832459Z",
          "iopub.status.idle": "2023-02-17T13:34:24.839003Z",
          "shell.execute_reply": "2023-02-17T13:34:24.838056Z"
        },
        "papermill": {
          "duration": 0.015739,
          "end_time": "2023-02-17T13:34:24.841069",
          "exception": false,
          "start_time": "2023-02-17T13:34:24.825330",
          "status": "completed"
        },
        "tags": [],
        "id": "11a6c391",
        "outputId": "1310d1cb-d3b0-48ad-ac79-5c4cb9fb1365",
        "colab": {
          "base_uri": "https://localhost:8080/"
        }
      },
      "outputs": [
        {
          "output_type": "execute_result",
          "data": {
            "text/plain": [
              "{'bos_token': '<|startoftext|>',\n",
              " 'eos_token': '<|endoftext|>',\n",
              " 'unk_token': '<|unknown|>',\n",
              " 'pad_token': '<|pad|>'}"
            ]
          },
          "metadata": {},
          "execution_count": 10
        }
      ],
      "source": [
        "tokenizer.special_tokens_map"
      ]
    },
    {
      "cell_type": "code",
      "execution_count": 11,
      "id": "e602b365",
      "metadata": {
        "execution": {
          "iopub.execute_input": "2023-02-17T13:34:24.855603Z",
          "iopub.status.busy": "2023-02-17T13:34:24.854828Z",
          "iopub.status.idle": "2023-02-17T13:34:24.860740Z",
          "shell.execute_reply": "2023-02-17T13:34:24.859815Z"
        },
        "papermill": {
          "duration": 0.015314,
          "end_time": "2023-02-17T13:34:24.862892",
          "exception": false,
          "start_time": "2023-02-17T13:34:24.847578",
          "status": "completed"
        },
        "tags": [],
        "id": "e602b365",
        "outputId": "c166b68e-899c-4fb8-c873-77834b1ab5cb",
        "colab": {
          "base_uri": "https://localhost:8080/"
        }
      },
      "outputs": [
        {
          "output_type": "execute_result",
          "data": {
            "text/plain": [
              "[50257]"
            ]
          },
          "metadata": {},
          "execution_count": 11
        }
      ],
      "source": [
        "tokenizer.convert_tokens_to_ids(['<|startoftext|>'],)"
      ]
    },
    {
      "cell_type": "code",
      "execution_count": 12,
      "id": "ba7206fb",
      "metadata": {
        "execution": {
          "iopub.execute_input": "2023-02-17T13:34:24.877711Z",
          "iopub.status.busy": "2023-02-17T13:34:24.876792Z",
          "iopub.status.idle": "2023-02-17T13:34:25.101607Z",
          "shell.execute_reply": "2023-02-17T13:34:25.100498Z"
        },
        "papermill": {
          "duration": 0.234701,
          "end_time": "2023-02-17T13:34:25.104154",
          "exception": false,
          "start_time": "2023-02-17T13:34:24.869453",
          "status": "completed"
        },
        "tags": [],
        "id": "ba7206fb"
      },
      "outputs": [],
      "source": [
        "clean = pd.read_csv('/content/drive/MyDrive/Colab Notebooks/Machine Learning Project/data/Cleaned_Indian_Food_Dataset.csv')\n",
        "clean = clean.sample(frac=1)\n",
        "clean.reset_index(drop=True,inplace=True)"
      ]
    },
    {
      "cell_type": "code",
      "execution_count": 13,
      "id": "de7fb80b",
      "metadata": {
        "execution": {
          "iopub.execute_input": "2023-02-17T13:34:25.119728Z",
          "iopub.status.busy": "2023-02-17T13:34:25.119058Z",
          "iopub.status.idle": "2023-02-17T13:34:25.124333Z",
          "shell.execute_reply": "2023-02-17T13:34:25.123239Z"
        },
        "papermill": {
          "duration": 0.015245,
          "end_time": "2023-02-17T13:34:25.126409",
          "exception": false,
          "start_time": "2023-02-17T13:34:25.111164",
          "status": "completed"
        },
        "tags": [],
        "id": "de7fb80b"
      },
      "outputs": [],
      "source": [
        "def print_recipe(idx):\n",
        "    print(f\"{clean['ingredients'][idx]}\\n\\n{clean['instructions'][idx]}\")"
      ]
    },
    {
      "cell_type": "code",
      "execution_count": 14,
      "id": "0aa48926",
      "metadata": {
        "execution": {
          "iopub.execute_input": "2023-02-17T13:34:25.142078Z",
          "iopub.status.busy": "2023-02-17T13:34:25.141623Z",
          "iopub.status.idle": "2023-02-17T13:34:25.146115Z",
          "shell.execute_reply": "2023-02-17T13:34:25.145183Z"
        },
        "papermill": {
          "duration": 0.014662,
          "end_time": "2023-02-17T13:34:25.148143",
          "exception": false,
          "start_time": "2023-02-17T13:34:25.133481",
          "status": "completed"
        },
        "tags": [],
        "id": "0aa48926"
      },
      "outputs": [],
      "source": [
        "def form_string(ingredient,instruction):\n",
        "    s = f\"<|startoftext|>Ingredients:\\n{ingredient.strip()}\\n\\nInstructions:\\n{instruction.strip()}<|endoftext|>\"\n",
        "    return s"
      ]
    },
    {
      "cell_type": "code",
      "execution_count": 15,
      "id": "277012b3",
      "metadata": {
        "id": "277012b3",
        "outputId": "ffa09f4e-d9c1-4f4b-ce24-4843e8e3bd2c",
        "colab": {
          "base_uri": "https://localhost:8080/"
        }
      },
      "outputs": [
        {
          "output_type": "stream",
          "name": "stdout",
          "text": [
            "Index(['TranslatedRecipeName', 'TranslatedIngredients', 'TotalTimeInMins',\n",
            "       'Cuisine', 'TranslatedInstructions', 'URL', 'Cleaned-Ingredients',\n",
            "       'image-url', 'Ingredient-count'],\n",
            "      dtype='object')\n"
          ]
        }
      ],
      "source": [
        "print(clean.columns)"
      ]
    },
    {
      "cell_type": "code",
      "execution_count": 16,
      "id": "320c6c26",
      "metadata": {
        "execution": {
          "iopub.execute_input": "2023-02-17T13:34:25.163423Z",
          "iopub.status.busy": "2023-02-17T13:34:25.162538Z",
          "iopub.status.idle": "2023-02-17T13:34:25.250755Z",
          "shell.execute_reply": "2023-02-17T13:34:25.249871Z"
        },
        "papermill": {
          "duration": 0.098057,
          "end_time": "2023-02-17T13:34:25.253001",
          "exception": false,
          "start_time": "2023-02-17T13:34:25.154944",
          "status": "completed"
        },
        "tags": [],
        "id": "320c6c26"
      },
      "outputs": [],
      "source": [
        "data = clean.apply(lambda x:form_string(x['Cleaned-Ingredients'],x['TranslatedInstructions']),axis=1).to_list()"
      ]
    },
    {
      "cell_type": "markdown",
      "id": "5f07ca2e",
      "metadata": {
        "papermill": {
          "duration": 0.006557,
          "end_time": "2023-02-17T13:34:25.266255",
          "exception": false,
          "start_time": "2023-02-17T13:34:25.259698",
          "status": "completed"
        },
        "tags": [],
        "id": "5f07ca2e"
      },
      "source": [
        "https://towardsdatascience.com/guide-to-fine-tuning-text-generation-models-gpt-2-gpt-neo-and-t5-dc5de6b3bc5e"
      ]
    },
    {
      "cell_type": "code",
      "execution_count": 17,
      "id": "55f1d0f1",
      "metadata": {
        "execution": {
          "iopub.execute_input": "2023-02-17T13:34:25.281715Z",
          "iopub.status.busy": "2023-02-17T13:34:25.281434Z",
          "iopub.status.idle": "2023-02-17T13:34:25.286154Z",
          "shell.execute_reply": "2023-02-17T13:34:25.285200Z"
        },
        "papermill": {
          "duration": 0.01452,
          "end_time": "2023-02-17T13:34:25.288208",
          "exception": false,
          "start_time": "2023-02-17T13:34:25.273688",
          "status": "completed"
        },
        "tags": [],
        "id": "55f1d0f1"
      },
      "outputs": [],
      "source": [
        "train_size = 0.85\n",
        "train_len = int(train_size * len(data))\n",
        "train_data = data[:train_len]\n",
        "val_data = data[train_len:]"
      ]
    },
    {
      "cell_type": "code",
      "execution_count": 18,
      "id": "b42c0ce7",
      "metadata": {
        "execution": {
          "iopub.execute_input": "2023-02-17T13:34:25.303272Z",
          "iopub.status.busy": "2023-02-17T13:34:25.302446Z",
          "iopub.status.idle": "2023-02-17T13:34:25.309416Z",
          "shell.execute_reply": "2023-02-17T13:34:25.308588Z"
        },
        "papermill": {
          "duration": 0.016565,
          "end_time": "2023-02-17T13:34:25.311351",
          "exception": false,
          "start_time": "2023-02-17T13:34:25.294786",
          "status": "completed"
        },
        "tags": [],
        "id": "b42c0ce7"
      },
      "outputs": [],
      "source": [
        "class RecipeDataset:\n",
        "    def __init__(self,data):\n",
        "        self.data = data\n",
        "        self.input_ids = []\n",
        "        self.attn_masks = []\n",
        "\n",
        "        for item in tqdm(data):\n",
        "            encodings = tokenizer.encode_plus(item,\n",
        "                                              truncation=True,\n",
        "                                              padding='max_length',\n",
        "                                              max_length=1024,\n",
        "                                              return_tensors='pt'\n",
        "                                             )\n",
        "            self.input_ids.append(torch.squeeze(encodings['input_ids'],0))\n",
        "            self.attn_masks.append(torch.squeeze(encodings['attention_mask'],0))\n",
        "\n",
        "    def __len__(self):\n",
        "        return len(self.data)\n",
        "\n",
        "    def __getitem__(self,idx):\n",
        "        return self.input_ids[idx], self.attn_masks[idx]"
      ]
    },
    {
      "cell_type": "code",
      "execution_count": 19,
      "id": "d3a70118",
      "metadata": {
        "execution": {
          "iopub.execute_input": "2023-02-17T13:34:25.325646Z",
          "iopub.status.busy": "2023-02-17T13:34:25.325128Z",
          "iopub.status.idle": "2023-02-17T13:34:25.330285Z",
          "shell.execute_reply": "2023-02-17T13:34:25.329384Z"
        },
        "papermill": {
          "duration": 0.014469,
          "end_time": "2023-02-17T13:34:25.332318",
          "exception": false,
          "start_time": "2023-02-17T13:34:25.317849",
          "status": "completed"
        },
        "tags": [],
        "id": "d3a70118"
      },
      "outputs": [],
      "source": [
        "def collate_fn(batch):\n",
        "    return {\n",
        "        'input_ids': torch.stack([item[0] for item in batch]),\n",
        "        'attention_mask': torch.stack([item[1] for item in batch]),\n",
        "        'labels': torch.stack([item[0] for item in batch])\n",
        "    }"
      ]
    },
    {
      "cell_type": "code",
      "execution_count": 20,
      "id": "7aafedd7",
      "metadata": {
        "execution": {
          "iopub.execute_input": "2023-02-17T13:34:25.347030Z",
          "iopub.status.busy": "2023-02-17T13:34:25.346277Z",
          "iopub.status.idle": "2023-02-17T13:34:32.446178Z",
          "shell.execute_reply": "2023-02-17T13:34:32.445186Z"
        },
        "papermill": {
          "duration": 7.109639,
          "end_time": "2023-02-17T13:34:32.448516",
          "exception": false,
          "start_time": "2023-02-17T13:34:25.338877",
          "status": "completed"
        },
        "tags": [],
        "id": "7aafedd7",
        "outputId": "e4298c6c-dc1f-4a06-8708-10636000e99a",
        "colab": {
          "referenced_widgets": [
            "8c49103c355a4494a06e9f81c866d73c",
            "f58ccb3997d3488abc8bd9feea608bf4",
            "361ed5b19b1348759d2c99cbb2b30667",
            "b37c54ce2d384adfad4367d736598846",
            "383caa685e834701ae2f3d9cec3bd991",
            "8d14b89349ad4581bef373a3e97411dc",
            "3396b2043d9b4655a0907606a2ee0437",
            "7cc1ade476a347d69d8b918cf17a1a30",
            "b1f8bac8e03340d7b088c59560ce3a46",
            "3f217a1c7d5741509190419ff5832286",
            "03c12076292346429e0600ff66379bf3",
            "f498dcd013224a72859c397e5141b1d5",
            "320e676a7d744dd09ebafab0016602bc",
            "59660836b0b74678a4c3cb1640e2103c",
            "e9ea416adf084ca0adfe6a9d1500fcc1",
            "539e0222aa244eb485966e6faab6cf0a",
            "f02f57a764324ec6940d29d725cb0e85",
            "f4e2b146e7024f62bb5b90a822309bd2",
            "a6825e89f9834c90b9533730362e866b",
            "a127ab5508804987ad9b6161f1e74d94",
            "09d6e94107b34bd09207fc5b347373bc",
            "e82f7ef6764143859ee57e97c3c92602"
          ],
          "base_uri": "https://localhost:8080/",
          "height": 81
        }
      },
      "outputs": [
        {
          "output_type": "display_data",
          "data": {
            "text/plain": [
              "  0%|          | 0/5047 [00:00<?, ?it/s]"
            ],
            "application/vnd.jupyter.widget-view+json": {
              "version_major": 2,
              "version_minor": 0,
              "model_id": "8c49103c355a4494a06e9f81c866d73c"
            }
          },
          "metadata": {}
        },
        {
          "output_type": "display_data",
          "data": {
            "text/plain": [
              "  0%|          | 0/891 [00:00<?, ?it/s]"
            ],
            "application/vnd.jupyter.widget-view+json": {
              "version_major": 2,
              "version_minor": 0,
              "model_id": "f498dcd013224a72859c397e5141b1d5"
            }
          },
          "metadata": {}
        }
      ],
      "source": [
        "train_ds = RecipeDataset(train_data)\n",
        "val_ds = RecipeDataset(val_data)"
      ]
    },
    {
      "cell_type": "code",
      "source": [
        "!pip3 install accelerate -U"
      ],
      "metadata": {
        "colab": {
          "base_uri": "https://localhost:8080/"
        },
        "id": "lnkrYNfovXvs",
        "outputId": "1894808d-e245-4b05-ae73-325bfc3f0d1d"
      },
      "id": "lnkrYNfovXvs",
      "execution_count": 21,
      "outputs": [
        {
          "output_type": "stream",
          "name": "stdout",
          "text": [
            "Requirement already satisfied: accelerate in /usr/local/lib/python3.10/dist-packages (0.20.3)\n",
            "Requirement already satisfied: numpy>=1.17 in /usr/local/lib/python3.10/dist-packages (from accelerate) (1.22.4)\n",
            "Requirement already satisfied: packaging>=20.0 in /usr/local/lib/python3.10/dist-packages (from accelerate) (23.1)\n",
            "Requirement already satisfied: psutil in /usr/local/lib/python3.10/dist-packages (from accelerate) (5.9.5)\n",
            "Requirement already satisfied: pyyaml in /usr/local/lib/python3.10/dist-packages (from accelerate) (6.0)\n",
            "Requirement already satisfied: torch>=1.6.0 in /usr/local/lib/python3.10/dist-packages (from accelerate) (2.0.1+cu118)\n",
            "Requirement already satisfied: filelock in /usr/local/lib/python3.10/dist-packages (from torch>=1.6.0->accelerate) (3.12.2)\n",
            "Requirement already satisfied: typing-extensions in /usr/local/lib/python3.10/dist-packages (from torch>=1.6.0->accelerate) (4.6.3)\n",
            "Requirement already satisfied: sympy in /usr/local/lib/python3.10/dist-packages (from torch>=1.6.0->accelerate) (1.11.1)\n",
            "Requirement already satisfied: networkx in /usr/local/lib/python3.10/dist-packages (from torch>=1.6.0->accelerate) (3.1)\n",
            "Requirement already satisfied: jinja2 in /usr/local/lib/python3.10/dist-packages (from torch>=1.6.0->accelerate) (3.1.2)\n",
            "Requirement already satisfied: triton==2.0.0 in /usr/local/lib/python3.10/dist-packages (from torch>=1.6.0->accelerate) (2.0.0)\n",
            "Requirement already satisfied: cmake in /usr/local/lib/python3.10/dist-packages (from triton==2.0.0->torch>=1.6.0->accelerate) (3.25.2)\n",
            "Requirement already satisfied: lit in /usr/local/lib/python3.10/dist-packages (from triton==2.0.0->torch>=1.6.0->accelerate) (16.0.6)\n",
            "Requirement already satisfied: MarkupSafe>=2.0 in /usr/local/lib/python3.10/dist-packages (from jinja2->torch>=1.6.0->accelerate) (2.1.3)\n",
            "Requirement already satisfied: mpmath>=0.19 in /usr/local/lib/python3.10/dist-packages (from sympy->torch>=1.6.0->accelerate) (1.3.0)\n"
          ]
        }
      ]
    },
    {
      "cell_type": "code",
      "source": [
        "!pip3 install transformers[torch]"
      ],
      "metadata": {
        "colab": {
          "base_uri": "https://localhost:8080/"
        },
        "id": "B2OCBgZYvrNb",
        "outputId": "efaaf421-7e70-40e5-e6f5-6a0624700228"
      },
      "id": "B2OCBgZYvrNb",
      "execution_count": 22,
      "outputs": [
        {
          "output_type": "stream",
          "name": "stdout",
          "text": [
            "Requirement already satisfied: transformers[torch] in /usr/local/lib/python3.10/dist-packages (4.30.2)\n",
            "Requirement already satisfied: filelock in /usr/local/lib/python3.10/dist-packages (from transformers[torch]) (3.12.2)\n",
            "Requirement already satisfied: huggingface-hub<1.0,>=0.14.1 in /usr/local/lib/python3.10/dist-packages (from transformers[torch]) (0.16.2)\n",
            "Requirement already satisfied: numpy>=1.17 in /usr/local/lib/python3.10/dist-packages (from transformers[torch]) (1.22.4)\n",
            "Requirement already satisfied: packaging>=20.0 in /usr/local/lib/python3.10/dist-packages (from transformers[torch]) (23.1)\n",
            "Requirement already satisfied: pyyaml>=5.1 in /usr/local/lib/python3.10/dist-packages (from transformers[torch]) (6.0)\n",
            "Requirement already satisfied: regex!=2019.12.17 in /usr/local/lib/python3.10/dist-packages (from transformers[torch]) (2022.10.31)\n",
            "Requirement already satisfied: requests in /usr/local/lib/python3.10/dist-packages (from transformers[torch]) (2.27.1)\n",
            "Requirement already satisfied: tokenizers!=0.11.3,<0.14,>=0.11.1 in /usr/local/lib/python3.10/dist-packages (from transformers[torch]) (0.13.3)\n",
            "Requirement already satisfied: safetensors>=0.3.1 in /usr/local/lib/python3.10/dist-packages (from transformers[torch]) (0.3.1)\n",
            "Requirement already satisfied: tqdm>=4.27 in /usr/local/lib/python3.10/dist-packages (from transformers[torch]) (4.65.0)\n",
            "Requirement already satisfied: torch!=1.12.0,>=1.9 in /usr/local/lib/python3.10/dist-packages (from transformers[torch]) (2.0.1+cu118)\n",
            "Requirement already satisfied: accelerate>=0.20.2 in /usr/local/lib/python3.10/dist-packages (from transformers[torch]) (0.20.3)\n",
            "Requirement already satisfied: psutil in /usr/local/lib/python3.10/dist-packages (from accelerate>=0.20.2->transformers[torch]) (5.9.5)\n",
            "Requirement already satisfied: fsspec in /usr/local/lib/python3.10/dist-packages (from huggingface-hub<1.0,>=0.14.1->transformers[torch]) (2023.6.0)\n",
            "Requirement already satisfied: typing-extensions>=3.7.4.3 in /usr/local/lib/python3.10/dist-packages (from huggingface-hub<1.0,>=0.14.1->transformers[torch]) (4.6.3)\n",
            "Requirement already satisfied: sympy in /usr/local/lib/python3.10/dist-packages (from torch!=1.12.0,>=1.9->transformers[torch]) (1.11.1)\n",
            "Requirement already satisfied: networkx in /usr/local/lib/python3.10/dist-packages (from torch!=1.12.0,>=1.9->transformers[torch]) (3.1)\n",
            "Requirement already satisfied: jinja2 in /usr/local/lib/python3.10/dist-packages (from torch!=1.12.0,>=1.9->transformers[torch]) (3.1.2)\n",
            "Requirement already satisfied: triton==2.0.0 in /usr/local/lib/python3.10/dist-packages (from torch!=1.12.0,>=1.9->transformers[torch]) (2.0.0)\n",
            "Requirement already satisfied: cmake in /usr/local/lib/python3.10/dist-packages (from triton==2.0.0->torch!=1.12.0,>=1.9->transformers[torch]) (3.25.2)\n",
            "Requirement already satisfied: lit in /usr/local/lib/python3.10/dist-packages (from triton==2.0.0->torch!=1.12.0,>=1.9->transformers[torch]) (16.0.6)\n",
            "Requirement already satisfied: urllib3<1.27,>=1.21.1 in /usr/local/lib/python3.10/dist-packages (from requests->transformers[torch]) (1.26.16)\n",
            "Requirement already satisfied: certifi>=2017.4.17 in /usr/local/lib/python3.10/dist-packages (from requests->transformers[torch]) (2023.5.7)\n",
            "Requirement already satisfied: charset-normalizer~=2.0.0 in /usr/local/lib/python3.10/dist-packages (from requests->transformers[torch]) (2.0.12)\n",
            "Requirement already satisfied: idna<4,>=2.5 in /usr/local/lib/python3.10/dist-packages (from requests->transformers[torch]) (3.4)\n",
            "Requirement already satisfied: MarkupSafe>=2.0 in /usr/local/lib/python3.10/dist-packages (from jinja2->torch!=1.12.0,>=1.9->transformers[torch]) (2.1.3)\n",
            "Requirement already satisfied: mpmath>=0.19 in /usr/local/lib/python3.10/dist-packages (from sympy->torch!=1.12.0,>=1.9->transformers[torch]) (1.3.0)\n"
          ]
        }
      ]
    },
    {
      "cell_type": "code",
      "execution_count": 23,
      "id": "9217aa6a",
      "metadata": {
        "execution": {
          "iopub.execute_input": "2023-02-17T13:34:32.464813Z",
          "iopub.status.busy": "2023-02-17T13:34:32.464479Z",
          "iopub.status.idle": "2023-02-17T13:34:32.592945Z",
          "shell.execute_reply": "2023-02-17T13:34:32.591982Z"
        },
        "papermill": {
          "duration": 0.139256,
          "end_time": "2023-02-17T13:34:32.595349",
          "exception": false,
          "start_time": "2023-02-17T13:34:32.456093",
          "status": "completed"
        },
        "tags": [],
        "id": "9217aa6a"
      },
      "outputs": [],
      "source": [
        "args = TrainingArguments(output_dir=model_save_path,\n",
        "                         per_device_train_batch_size=2,\n",
        "                         per_device_eval_batch_size=2,\n",
        "                         gradient_accumulation_steps=2,\n",
        "                         report_to='none',\n",
        "                         num_train_epochs=3,\n",
        "                         save_strategy='no'\n",
        "                        )"
      ]
    },
    {
      "cell_type": "code",
      "execution_count": 24,
      "id": "8a63414d",
      "metadata": {
        "execution": {
          "iopub.execute_input": "2023-02-17T13:34:32.612549Z",
          "iopub.status.busy": "2023-02-17T13:34:32.610763Z",
          "iopub.status.idle": "2023-02-17T13:34:32.617663Z",
          "shell.execute_reply": "2023-02-17T13:34:32.616677Z"
        },
        "papermill": {
          "duration": 0.017367,
          "end_time": "2023-02-17T13:34:32.619942",
          "exception": false,
          "start_time": "2023-02-17T13:34:32.602575",
          "status": "completed"
        },
        "tags": [],
        "id": "8a63414d"
      },
      "outputs": [],
      "source": [
        "optim = torch.optim.AdamW(model.parameters(),lr=5e-5)\n",
        "scheduler = torch.optim.lr_scheduler.CosineAnnealingWarmRestarts(optim,20,eta_min=1e-7)"
      ]
    },
    {
      "cell_type": "code",
      "execution_count": 25,
      "id": "fc4946f4",
      "metadata": {
        "id": "fc4946f4"
      },
      "outputs": [],
      "source": [
        "#from transformers import TrainingArguments\n",
        "\n",
        "# Define the desired reduced batch size\n",
        "###reduced_batch_size = 8\n",
        "\n",
        "\n",
        "#device = torch.device('mps')\n",
        "\n",
        "\n",
        "#training_args = TrainingArguments(output_dir=\"test_trainer\", use_mps_device=True, per_device_train_batch_size=8,\n",
        "    #per_device_eval_batch_size=8)\n",
        "\n",
        "# Modify the TrainingArguments object with reduced batch size\n",
        "#training_args.per_device_train_batch_size = reduced_batch_size\n",
        "#training_args.per_device_eval_batch_size = reduced_batch_size\n",
        "\n"
      ]
    },
    {
      "cell_type": "code",
      "execution_count": 26,
      "id": "efb46f00",
      "metadata": {
        "execution": {
          "iopub.execute_input": "2023-02-17T13:34:32.635197Z",
          "iopub.status.busy": "2023-02-17T13:34:32.634926Z",
          "iopub.status.idle": "2023-02-17T13:34:37.810671Z",
          "shell.execute_reply": "2023-02-17T13:34:37.809610Z"
        },
        "papermill": {
          "duration": 5.186167,
          "end_time": "2023-02-17T13:34:37.813033",
          "exception": false,
          "start_time": "2023-02-17T13:34:32.626866",
          "status": "completed"
        },
        "tags": [],
        "id": "efb46f00"
      },
      "outputs": [],
      "source": [
        "\n",
        "trainer = Trainer(model,\n",
        "                  args ,\n",
        "                  train_dataset=train_ds,\n",
        "                  eval_dataset=val_ds,\n",
        "                  data_collator=collate_fn,\n",
        "                  optimizers=(optim, scheduler)\n",
        "                 )\n"
      ]
    },
    {
      "cell_type": "code",
      "execution_count": 27,
      "id": "ede95bb7",
      "metadata": {
        "execution": {
          "iopub.execute_input": "2023-02-17T13:34:37.830145Z",
          "iopub.status.busy": "2023-02-17T13:34:37.828656Z",
          "iopub.status.idle": "2023-02-17T14:27:06.805075Z",
          "shell.execute_reply": "2023-02-17T14:27:06.804119Z"
        },
        "papermill": {
          "duration": 3148.986737,
          "end_time": "2023-02-17T14:27:06.807297",
          "exception": false,
          "start_time": "2023-02-17T13:34:37.820560",
          "status": "completed"
        },
        "tags": [],
        "id": "ede95bb7",
        "outputId": "fc649195-3039-4c4a-cee3-0666415089a4",
        "colab": {
          "base_uri": "https://localhost:8080/",
          "height": 337
        }
      },
      "outputs": [
        {
          "output_type": "display_data",
          "data": {
            "text/plain": [
              "<IPython.core.display.HTML object>"
            ],
            "text/html": [
              "\n",
              "    <div>\n",
              "      \n",
              "      <progress value='3786' max='3786' style='width:300px; height:20px; vertical-align: middle;'></progress>\n",
              "      [3786/3786 1:31:31, Epoch 3/3]\n",
              "    </div>\n",
              "    <table border=\"1\" class=\"dataframe\">\n",
              "  <thead>\n",
              " <tr style=\"text-align: left;\">\n",
              "      <th>Step</th>\n",
              "      <th>Training Loss</th>\n",
              "    </tr>\n",
              "  </thead>\n",
              "  <tbody>\n",
              "    <tr>\n",
              "      <td>500</td>\n",
              "      <td>1.017300</td>\n",
              "    </tr>\n",
              "    <tr>\n",
              "      <td>1000</td>\n",
              "      <td>0.749700</td>\n",
              "    </tr>\n",
              "    <tr>\n",
              "      <td>1500</td>\n",
              "      <td>0.709800</td>\n",
              "    </tr>\n",
              "    <tr>\n",
              "      <td>2000</td>\n",
              "      <td>0.678700</td>\n",
              "    </tr>\n",
              "    <tr>\n",
              "      <td>2500</td>\n",
              "      <td>0.669700</td>\n",
              "    </tr>\n",
              "    <tr>\n",
              "      <td>3000</td>\n",
              "      <td>0.638600</td>\n",
              "    </tr>\n",
              "    <tr>\n",
              "      <td>3500</td>\n",
              "      <td>0.637200</td>\n",
              "    </tr>\n",
              "  </tbody>\n",
              "</table><p>"
            ]
          },
          "metadata": {}
        },
        {
          "output_type": "execute_result",
          "data": {
            "text/plain": [
              "TrainOutput(global_step=3786, training_loss=0.7209754577088595, metrics={'train_runtime': 5495.3472, 'train_samples_per_second': 2.755, 'train_steps_per_second': 0.689, 'total_flos': 7912445313024000.0, 'train_loss': 0.7209754577088595, 'epoch': 3.0})"
            ]
          },
          "metadata": {},
          "execution_count": 27
        }
      ],
      "source": [
        "trainer.train()"
      ]
    },
    {
      "cell_type": "code",
      "execution_count": 28,
      "id": "5ab7c07d",
      "metadata": {
        "execution": {
          "iopub.execute_input": "2023-02-17T14:27:06.825510Z",
          "iopub.status.busy": "2023-02-17T14:27:06.823784Z",
          "iopub.status.idle": "2023-02-17T14:27:07.793310Z",
          "shell.execute_reply": "2023-02-17T14:27:07.792280Z"
        },
        "papermill": {
          "duration": 0.9808,
          "end_time": "2023-02-17T14:27:07.795950",
          "exception": false,
          "start_time": "2023-02-17T14:27:06.815150",
          "status": "completed"
        },
        "tags": [],
        "id": "5ab7c07d"
      },
      "outputs": [],
      "source": [
        "trainer.save_model()"
      ]
    },
    {
      "cell_type": "code",
      "execution_count": 29,
      "id": "09197463",
      "metadata": {
        "execution": {
          "iopub.execute_input": "2023-02-17T14:27:07.818182Z",
          "iopub.status.busy": "2023-02-17T14:27:07.817881Z",
          "iopub.status.idle": "2023-02-17T14:27:10.388460Z",
          "shell.execute_reply": "2023-02-17T14:27:10.387517Z"
        },
        "papermill": {
          "duration": 2.586384,
          "end_time": "2023-02-17T14:27:10.391206",
          "exception": false,
          "start_time": "2023-02-17T14:27:07.804822",
          "status": "completed"
        },
        "tags": [],
        "id": "09197463"
      },
      "outputs": [],
      "source": [
        "from transformers import pipeline"
      ]
    },
    {
      "cell_type": "code",
      "source": [
        "!pip3 install xformers"
      ],
      "metadata": {
        "colab": {
          "base_uri": "https://localhost:8080/"
        },
        "id": "6anzl758EPZy",
        "outputId": "6050a79b-db8d-40b0-d270-5e113b5cd142"
      },
      "id": "6anzl758EPZy",
      "execution_count": 30,
      "outputs": [
        {
          "output_type": "stream",
          "name": "stdout",
          "text": [
            "Collecting xformers\n",
            "  Downloading xformers-0.0.20-cp310-cp310-manylinux2014_x86_64.whl (109.1 MB)\n",
            "\u001b[2K     \u001b[90m━━━━━━━━━━━━━━━━━━━━━━━━━━━━━━━━━━━━━━\u001b[0m \u001b[32m109.1/109.1 MB\u001b[0m \u001b[31m10.2 MB/s\u001b[0m eta \u001b[36m0:00:00\u001b[0m\n",
            "\u001b[?25hRequirement already satisfied: numpy in /usr/local/lib/python3.10/dist-packages (from xformers) (1.22.4)\n",
            "Collecting pyre-extensions==0.0.29 (from xformers)\n",
            "  Downloading pyre_extensions-0.0.29-py3-none-any.whl (12 kB)\n",
            "Requirement already satisfied: torch==2.0.1 in /usr/local/lib/python3.10/dist-packages (from xformers) (2.0.1+cu118)\n",
            "Collecting typing-inspect (from pyre-extensions==0.0.29->xformers)\n",
            "  Downloading typing_inspect-0.9.0-py3-none-any.whl (8.8 kB)\n",
            "Requirement already satisfied: typing-extensions in /usr/local/lib/python3.10/dist-packages (from pyre-extensions==0.0.29->xformers) (4.6.3)\n",
            "Requirement already satisfied: filelock in /usr/local/lib/python3.10/dist-packages (from torch==2.0.1->xformers) (3.12.2)\n",
            "Requirement already satisfied: sympy in /usr/local/lib/python3.10/dist-packages (from torch==2.0.1->xformers) (1.11.1)\n",
            "Requirement already satisfied: networkx in /usr/local/lib/python3.10/dist-packages (from torch==2.0.1->xformers) (3.1)\n",
            "Requirement already satisfied: jinja2 in /usr/local/lib/python3.10/dist-packages (from torch==2.0.1->xformers) (3.1.2)\n",
            "Requirement already satisfied: triton==2.0.0 in /usr/local/lib/python3.10/dist-packages (from torch==2.0.1->xformers) (2.0.0)\n",
            "Requirement already satisfied: cmake in /usr/local/lib/python3.10/dist-packages (from triton==2.0.0->torch==2.0.1->xformers) (3.25.2)\n",
            "Requirement already satisfied: lit in /usr/local/lib/python3.10/dist-packages (from triton==2.0.0->torch==2.0.1->xformers) (16.0.6)\n",
            "Requirement already satisfied: MarkupSafe>=2.0 in /usr/local/lib/python3.10/dist-packages (from jinja2->torch==2.0.1->xformers) (2.1.3)\n",
            "Requirement already satisfied: mpmath>=0.19 in /usr/local/lib/python3.10/dist-packages (from sympy->torch==2.0.1->xformers) (1.3.0)\n",
            "Collecting mypy-extensions>=0.3.0 (from typing-inspect->pyre-extensions==0.0.29->xformers)\n",
            "  Downloading mypy_extensions-1.0.0-py3-none-any.whl (4.7 kB)\n",
            "Installing collected packages: mypy-extensions, typing-inspect, pyre-extensions, xformers\n",
            "Successfully installed mypy-extensions-1.0.0 pyre-extensions-0.0.29 typing-inspect-0.9.0 xformers-0.0.20\n"
          ]
        }
      ]
    },
    {
      "cell_type": "code",
      "execution_count": 32,
      "id": "f756b8c5",
      "metadata": {
        "execution": {
          "iopub.execute_input": "2023-02-17T14:27:10.408813Z",
          "iopub.status.busy": "2023-02-17T14:27:10.408506Z",
          "iopub.status.idle": "2023-02-17T14:27:12.965270Z",
          "shell.execute_reply": "2023-02-17T14:27:12.964200Z"
        },
        "papermill": {
          "duration": 2.568482,
          "end_time": "2023-02-17T14:27:12.968034",
          "exception": false,
          "start_time": "2023-02-17T14:27:10.399552",
          "status": "completed"
        },
        "tags": [],
        "id": "f756b8c5"
      },
      "outputs": [],
      "source": [
        "pl = pipeline(task='text-generation',model='/content/drive/MyDrive/Colab Notebooks/Machine Learning Project/model')"
      ]
    },
    {
      "cell_type": "code",
      "execution_count": 33,
      "id": "ec9e19c7",
      "metadata": {
        "execution": {
          "iopub.execute_input": "2023-02-17T14:27:12.986821Z",
          "iopub.status.busy": "2023-02-17T14:27:12.986502Z",
          "iopub.status.idle": "2023-02-17T14:27:12.992078Z",
          "shell.execute_reply": "2023-02-17T14:27:12.990937Z"
        },
        "papermill": {
          "duration": 0.017297,
          "end_time": "2023-02-17T14:27:12.994402",
          "exception": false,
          "start_time": "2023-02-17T14:27:12.977105",
          "status": "completed"
        },
        "tags": [],
        "id": "ec9e19c7"
      },
      "outputs": [],
      "source": [
        "def create_prompt(ingredients):\n",
        "    ingredients = ','.join([x.strip().lower() for x in ingredients.split(',')])\n",
        "    ingredients = ingredients.strip().replace(',','\\n')\n",
        "    s = f\"<|startoftext|>Ingredients:\\n{ingredients}\\n\"\n",
        "    return s"
      ]
    },
    {
      "cell_type": "code",
      "execution_count": 34,
      "id": "cc253319",
      "metadata": {
        "execution": {
          "iopub.execute_input": "2023-02-17T14:27:13.012628Z",
          "iopub.status.busy": "2023-02-17T14:27:13.012201Z",
          "iopub.status.idle": "2023-02-17T14:27:13.016313Z",
          "shell.execute_reply": "2023-02-17T14:27:13.015358Z"
        },
        "papermill": {
          "duration": 0.015495,
          "end_time": "2023-02-17T14:27:13.018383",
          "exception": false,
          "start_time": "2023-02-17T14:27:13.002888",
          "status": "completed"
        },
        "tags": [],
        "id": "cc253319"
      },
      "outputs": [],
      "source": [
        "ingredients = ['Rice,Potatoes,Tomatoes,Spinach,red bell peppers','chicken,tomatoes,aloo,jeera,curry powder']"
      ]
    },
    {
      "cell_type": "code",
      "execution_count": 35,
      "id": "45df47cf",
      "metadata": {
        "execution": {
          "iopub.execute_input": "2023-02-17T14:27:13.037080Z",
          "iopub.status.busy": "2023-02-17T14:27:13.036290Z",
          "iopub.status.idle": "2023-02-17T14:27:51.086157Z",
          "shell.execute_reply": "2023-02-17T14:27:51.085168Z"
        },
        "papermill": {
          "duration": 38.069886,
          "end_time": "2023-02-17T14:27:51.096864",
          "exception": false,
          "start_time": "2023-02-17T14:27:13.026978",
          "status": "completed"
        },
        "tags": [],
        "id": "45df47cf",
        "colab": {
          "base_uri": "https://localhost:8080/"
        },
        "outputId": "a5d81912-8036-4f18-e7d4-4666a940b9d7"
      },
      "outputs": [
        {
          "output_type": "stream",
          "name": "stdout",
          "text": [
            "<|startoftext|>Ingredients:\n",
            "rice\n",
            "potatoes\n",
            "tomatoes\n",
            "spinach\n",
            "red bell peppers\n",
            "green bell pepper (capsicum),coriander (dhania) leaves\n",
            "\n",
            "Instructions:\n",
            "To begin making the Potato Spinach & Capsicum Rice recipe, heat the oil in a pan.Add the onions and green peppers.\n",
            "Saute till the onion becomes soft and translucent.Add the potatoes along with a pinch of salt, mix well.\n",
            "Cook the potatoes till they are soft and cooked.\n",
            "Turn off the heat and allow the potato to cool.Once cooled, add the spinach, bell peppers, coriander leaves to the potato rice and mix well to combine.\n",
            "Check the salt and adjust to suit your taste.\n",
            "Check the spices and adjust to suit your taste.Transfer the Rice to a serving dish, add some chopped spinach and a pinch of cilantro.\n",
            "Sprinkle some salt, stir well and serve.\n",
            "<|startoftext|>Ingredients:\n",
            "chicken\n",
            "tomatoes\n",
            "aloo\n",
            "jeera\n",
            "curry powder\n",
            "salt,ginger,coriander (dhania) leaves,cloves garlic,cumin seeds (jeera),green chillies,turmeric powder\n",
            "\n",
            "Instructions:\n",
            "To begin making the Cesar Pachadi Recipe (Chicken Tikki Recipe) we will first make the pachadi batter.\n",
            "In a mixing bowl, combine the chicken pieces along with the turmeric, ginger, garlic, ginger and green chili.Mix well to combine and keep aside.\n",
            "To make the pachadi masala, heat a kadai on medium high heat.\n",
            "Add a teaspoon of oil and add the mustard seeds and allow them to crackle.\n",
            "Once they crackle add the curry powder, cumin seeds, curry powder, turmeric and ginger garlic curry powder.Stir well to combine.\n",
            "Once the curry is well combined, add the chicken and stir fry until the chicken gets well cooked.\n",
            "Once the chicken is cooked, turn off the heat and serve.Serve the Cesar Pachadi Recipe (Chicken Tikki Recipe) along with Steamed Rice, Beetroot Chutney and Phulka for a healthy breakfast or a quick weeknight dinner.\n"
          ]
        }
      ],
      "source": [
        "\n",
        "for ing in ingredients:\n",
        "    prompt = create_prompt(ing)\n",
        "    print(pl(prompt,\n",
        "         max_new_tokens=512,\n",
        "         penalty_alpha=0.6,\n",
        "         top_k=4,\n",
        "         pad_token_id=50259\n",
        "        )[0]['generated_text'])"
      ]
    },
    {
      "cell_type": "code",
      "source": [
        "!pip3 install --quiet gradio"
      ],
      "metadata": {
        "colab": {
          "base_uri": "https://localhost:8080/"
        },
        "id": "mZF0Id5TFGxi",
        "outputId": "b9e6ef6d-af2c-4333-d1dd-1e6ec53b4ecb"
      },
      "id": "mZF0Id5TFGxi",
      "execution_count": 36,
      "outputs": [
        {
          "output_type": "stream",
          "name": "stdout",
          "text": [
            "\u001b[2K     \u001b[90m━━━━━━━━━━━━━━━━━━━━━━━━━━━━━━━━━━━━━━━━\u001b[0m \u001b[32m19.7/19.7 MB\u001b[0m \u001b[31m71.1 MB/s\u001b[0m eta \u001b[36m0:00:00\u001b[0m\n",
            "\u001b[2K     \u001b[90m━━━━━━━━━━━━━━━━━━━━━━━━━━━━━━━━━━━━━━━━\u001b[0m \u001b[32m58.4/58.4 kB\u001b[0m \u001b[31m8.6 MB/s\u001b[0m eta \u001b[36m0:00:00\u001b[0m\n",
            "\u001b[?25h  Preparing metadata (setup.py) ... \u001b[?25l\u001b[?25hdone\n",
            "\u001b[2K     \u001b[90m━━━━━━━━━━━━━━━━━━━━━━━━━━━━━━━━━━━━━━\u001b[0m \u001b[32m288.4/288.4 kB\u001b[0m \u001b[31m34.7 MB/s\u001b[0m eta \u001b[36m0:00:00\u001b[0m\n",
            "\u001b[2K     \u001b[90m━━━━━━━━━━━━━━━━━━━━━━━━━━━━━━━━━━━━━━━━\u001b[0m \u001b[32m75.4/75.4 kB\u001b[0m \u001b[31m10.8 MB/s\u001b[0m eta \u001b[36m0:00:00\u001b[0m\n",
            "\u001b[2K     \u001b[90m━━━━━━━━━━━━━━━━━━━━━━━━━━━━━━━━━━━━━━━━\u001b[0m \u001b[32m50.5/50.5 kB\u001b[0m \u001b[31m6.8 MB/s\u001b[0m eta \u001b[36m0:00:00\u001b[0m\n",
            "\u001b[2K     \u001b[90m━━━━━━━━━━━━━━━━━━━━━━━━━━━━━━━━━━━━━━\u001b[0m \u001b[32m137.0/137.0 kB\u001b[0m \u001b[31m19.8 MB/s\u001b[0m eta \u001b[36m0:00:00\u001b[0m\n",
            "\u001b[2K     \u001b[90m━━━━━━━━━━━━━━━━━━━━━━━━━━━━━━━━━━━━━━━━\u001b[0m \u001b[32m45.7/45.7 kB\u001b[0m \u001b[31m6.1 MB/s\u001b[0m eta \u001b[36m0:00:00\u001b[0m\n",
            "\u001b[2K     \u001b[90m━━━━━━━━━━━━━━━━━━━━━━━━━━━━━━━━━━━━━━━━\u001b[0m \u001b[32m58.3/58.3 kB\u001b[0m \u001b[31m8.6 MB/s\u001b[0m eta \u001b[36m0:00:00\u001b[0m\n",
            "\u001b[2K     \u001b[90m━━━━━━━━━━━━━━━━━━━━━━━━━━━━━━━━━━━━━━\u001b[0m \u001b[32m129.9/129.9 kB\u001b[0m \u001b[31m18.3 MB/s\u001b[0m eta \u001b[36m0:00:00\u001b[0m\n",
            "\u001b[2K     \u001b[90m━━━━━━━━━━━━━━━━━━━━━━━━━━━━━━━━━━━━━━━━\u001b[0m \u001b[32m50.4/50.4 kB\u001b[0m \u001b[31m6.9 MB/s\u001b[0m eta \u001b[36m0:00:00\u001b[0m\n",
            "\u001b[2K     \u001b[90m━━━━━━━━━━━━━━━━━━━━━━━━━━━━━━━━━━━━━━━━\u001b[0m \u001b[32m46.5/46.5 kB\u001b[0m \u001b[31m6.3 MB/s\u001b[0m eta \u001b[36m0:00:00\u001b[0m\n",
            "\u001b[2K     \u001b[90m━━━━━━━━━━━━━━━━━━━━━━━━━━━━━━━━━━━━━━━━\u001b[0m \u001b[32m43.7/43.7 kB\u001b[0m \u001b[31m6.2 MB/s\u001b[0m eta \u001b[36m0:00:00\u001b[0m\n",
            "\u001b[2K     \u001b[90m━━━━━━━━━━━━━━━━━━━━━━━━━━━━━━━━━━━━━━━━\u001b[0m \u001b[32m41.0/41.0 kB\u001b[0m \u001b[31m5.3 MB/s\u001b[0m eta \u001b[36m0:00:00\u001b[0m\n",
            "\u001b[2K     \u001b[90m━━━━━━━━━━━━━━━━━━━━━━━━━━━━━━━━━━━━━━━━\u001b[0m \u001b[32m41.0/41.0 kB\u001b[0m \u001b[31m6.0 MB/s\u001b[0m eta \u001b[36m0:00:00\u001b[0m\n",
            "\u001b[2K     \u001b[90m━━━━━━━━━━━━━━━━━━━━━━━━━━━━━━━━━━━━━━━━\u001b[0m \u001b[32m87.5/87.5 kB\u001b[0m \u001b[31m12.9 MB/s\u001b[0m eta \u001b[36m0:00:00\u001b[0m\n",
            "\u001b[2K     \u001b[90m━━━━━━━━━━━━━━━━━━━━━━━━━━━━━━━━━━━━━━━━\u001b[0m \u001b[32m84.5/84.5 kB\u001b[0m \u001b[31m11.3 MB/s\u001b[0m eta \u001b[36m0:00:00\u001b[0m\n",
            "\u001b[2K     \u001b[90m━━━━━━━━━━━━━━━━━━━━━━━━━━━━━━━━━━━━━━━━\u001b[0m \u001b[32m58.3/58.3 kB\u001b[0m \u001b[31m7.8 MB/s\u001b[0m eta \u001b[36m0:00:00\u001b[0m\n",
            "\u001b[2K     \u001b[90m━━━━━━━━━━━━━━━━━━━━━━━━━━━━━━━━━━━━━━━━\u001b[0m \u001b[32m67.0/67.0 kB\u001b[0m \u001b[31m9.2 MB/s\u001b[0m eta \u001b[36m0:00:00\u001b[0m\n",
            "\u001b[2K     \u001b[90m━━━━━━━━━━━━━━━━━━━━━━━━━━━━━━━━━━━━━━━━\u001b[0m \u001b[32m74.5/74.5 kB\u001b[0m \u001b[31m10.3 MB/s\u001b[0m eta \u001b[36m0:00:00\u001b[0m\n",
            "\u001b[?25h  Building wheel for ffmpy (setup.py) ... \u001b[?25l\u001b[?25hdone\n"
          ]
        }
      ]
    },
    {
      "cell_type": "code",
      "source": [
        "from transformers import pipeline\n",
        "import gradio as gr\n",
        "\n",
        "import warnings\n",
        "warnings.simplefilter('ignore')\n",
        "\n",
        "model_path = '/content/drive/MyDrive/Colab Notebooks/Machine Learning Project/model'\n",
        "\n",
        "contrastive_search_config = dict(\n",
        "    penalty_alpha = 0.5,\n",
        "    top_k = 5,\n",
        "    max_new_tokens = 512,\n",
        "    pad_token_id = 50259\n",
        ")\n",
        "\n",
        "model = pipeline('text-generation',model=model_path)\n",
        "\n",
        "def create_prompt(ingredients):\n",
        "    ingredients = ','.join([x.strip() for x in ingredients.split(',')])\n",
        "    ingredients = ingredients.strip().replace(',','\\n').lower()\n",
        "    s = f\"<|startoftext|>Ingredients:\\n{ingredients}\\n\\nInstructions:\\n\"\n",
        "    return s\n",
        "\n",
        "def generate(prompt):\n",
        "    recipe = model(prompt,**contrastive_search_config)[0]['generated_text']\n",
        "    recipe = recipe.replace('<|startoftext|>','')\n",
        "    return recipe\n",
        "\n",
        "def wrapper(ingredients):\n",
        "    prompt = create_prompt(ingredients)\n",
        "    recipe = generate(prompt)\n",
        "    return recipe\n",
        "\n",
        "intro_html = \"\"\"\n",
        "<center><h1>Machine Learning Project: Single work</h1></center>\n",
        "<center>\n",
        "<p>Recipe generator based on the fine-tuning of GPT-2 on indian_recipes</p>\n",
        "</center>\n",
        "\"\"\"\n",
        "\n",
        "with gr.Blocks() as demo:\n",
        "    gr.HTML(intro_html)\n",
        "\n",
        "    ingredients = gr.Textbox(label=\"Ingredients\",\n",
        "    placeholder='Write ingredients in English and separate them with commas!')\n",
        "\n",
        "    output = gr.Textbox(label=\"Recipe\",lines=15,)\n",
        "    greet_btn = gr.Button(\"Create recipe!\")\n",
        "\n",
        "    gr.Examples(['yellow dal, turmeric, green peas, tomatoes',\n",
        "                'chicken, soy sauce, tomato sauce, vinegar'],\n",
        "                inputs=ingredients\n",
        "            )\n",
        "    css_code = '''\n",
        "    body {\n",
        "        background-image: url(\"https://picsum.photos/seed/picsum/200/300\");\n",
        "        background-size: cover;\n",
        "    }\n",
        "    '''\n",
        "\n",
        "    greet_btn.click(fn=wrapper, inputs=ingredients, outputs=output)\n",
        "\n",
        "    #gr.Interface(fn=wrapper, inputs=ingredients, outputs=output, examples=[['']]).launch(share=True, css=css_code)\n",
        "\n",
        "demo.launch(share=True)"
      ],
      "metadata": {
        "colab": {
          "base_uri": "https://localhost:8080/",
          "height": 605
        },
        "id": "tUZZ3_XsE-4_",
        "outputId": "219d48a2-55c5-4feb-89c6-ecfce003c191"
      },
      "id": "tUZZ3_XsE-4_",
      "execution_count": 44,
      "outputs": [
        {
          "output_type": "stream",
          "name": "stdout",
          "text": [
            "Colab notebook detected. To show errors in colab notebook, set debug=True in launch()\n",
            "Running on public URL: https://f32320454f09a0c1c6.gradio.live\n",
            "\n",
            "This share link expires in 72 hours. For free permanent hosting and GPU upgrades, run `gradio deploy` from Terminal to deploy to Spaces (https://huggingface.co/spaces)\n"
          ]
        },
        {
          "output_type": "display_data",
          "data": {
            "text/plain": [
              "<IPython.core.display.HTML object>"
            ],
            "text/html": [
              "<div><iframe src=\"https://f32320454f09a0c1c6.gradio.live\" width=\"100%\" height=\"500\" allow=\"autoplay; camera; microphone; clipboard-read; clipboard-write;\" frameborder=\"0\" allowfullscreen></iframe></div>"
            ]
          },
          "metadata": {}
        },
        {
          "output_type": "execute_result",
          "data": {
            "text/plain": []
          },
          "metadata": {},
          "execution_count": 44
        }
      ]
    }
  ],
  "metadata": {
    "kernelspec": {
      "display_name": "Python 3",
      "name": "python3"
    },
    "language_info": {
      "codemirror_mode": {
        "name": "ipython",
        "version": 3
      },
      "file_extension": ".py",
      "mimetype": "text/x-python",
      "name": "python",
      "nbconvert_exporter": "python",
      "pygments_lexer": "ipython3",
      "version": "3.11.4"
    },
    "papermill": {
      "default_parameters": {},
      "duration": 3255.807021,
      "end_time": "2023-02-17T14:27:54.907345",
      "environment_variables": {},
      "exception": null,
      "input_path": "__notebook__.ipynb",
      "output_path": "__notebook__.ipynb",
      "parameters": {},
      "start_time": "2023-02-17T13:33:39.100324",
      "version": "2.3.4"
    },
    "widgets": {
      "application/vnd.jupyter.widget-state+json": {
        "8c49103c355a4494a06e9f81c866d73c": {
          "model_module": "@jupyter-widgets/controls",
          "model_name": "HBoxModel",
          "model_module_version": "1.5.0",
          "state": {
            "_dom_classes": [],
            "_model_module": "@jupyter-widgets/controls",
            "_model_module_version": "1.5.0",
            "_model_name": "HBoxModel",
            "_view_count": null,
            "_view_module": "@jupyter-widgets/controls",
            "_view_module_version": "1.5.0",
            "_view_name": "HBoxView",
            "box_style": "",
            "children": [
              "IPY_MODEL_f58ccb3997d3488abc8bd9feea608bf4",
              "IPY_MODEL_361ed5b19b1348759d2c99cbb2b30667",
              "IPY_MODEL_b37c54ce2d384adfad4367d736598846"
            ],
            "layout": "IPY_MODEL_383caa685e834701ae2f3d9cec3bd991"
          }
        },
        "f58ccb3997d3488abc8bd9feea608bf4": {
          "model_module": "@jupyter-widgets/controls",
          "model_name": "HTMLModel",
          "model_module_version": "1.5.0",
          "state": {
            "_dom_classes": [],
            "_model_module": "@jupyter-widgets/controls",
            "_model_module_version": "1.5.0",
            "_model_name": "HTMLModel",
            "_view_count": null,
            "_view_module": "@jupyter-widgets/controls",
            "_view_module_version": "1.5.0",
            "_view_name": "HTMLView",
            "description": "",
            "description_tooltip": null,
            "layout": "IPY_MODEL_8d14b89349ad4581bef373a3e97411dc",
            "placeholder": "​",
            "style": "IPY_MODEL_3396b2043d9b4655a0907606a2ee0437",
            "value": "100%"
          }
        },
        "361ed5b19b1348759d2c99cbb2b30667": {
          "model_module": "@jupyter-widgets/controls",
          "model_name": "FloatProgressModel",
          "model_module_version": "1.5.0",
          "state": {
            "_dom_classes": [],
            "_model_module": "@jupyter-widgets/controls",
            "_model_module_version": "1.5.0",
            "_model_name": "FloatProgressModel",
            "_view_count": null,
            "_view_module": "@jupyter-widgets/controls",
            "_view_module_version": "1.5.0",
            "_view_name": "ProgressView",
            "bar_style": "success",
            "description": "",
            "description_tooltip": null,
            "layout": "IPY_MODEL_7cc1ade476a347d69d8b918cf17a1a30",
            "max": 5047,
            "min": 0,
            "orientation": "horizontal",
            "style": "IPY_MODEL_b1f8bac8e03340d7b088c59560ce3a46",
            "value": 5047
          }
        },
        "b37c54ce2d384adfad4367d736598846": {
          "model_module": "@jupyter-widgets/controls",
          "model_name": "HTMLModel",
          "model_module_version": "1.5.0",
          "state": {
            "_dom_classes": [],
            "_model_module": "@jupyter-widgets/controls",
            "_model_module_version": "1.5.0",
            "_model_name": "HTMLModel",
            "_view_count": null,
            "_view_module": "@jupyter-widgets/controls",
            "_view_module_version": "1.5.0",
            "_view_name": "HTMLView",
            "description": "",
            "description_tooltip": null,
            "layout": "IPY_MODEL_3f217a1c7d5741509190419ff5832286",
            "placeholder": "​",
            "style": "IPY_MODEL_03c12076292346429e0600ff66379bf3",
            "value": " 5047/5047 [00:10&lt;00:00, 347.80it/s]"
          }
        },
        "383caa685e834701ae2f3d9cec3bd991": {
          "model_module": "@jupyter-widgets/base",
          "model_name": "LayoutModel",
          "model_module_version": "1.2.0",
          "state": {
            "_model_module": "@jupyter-widgets/base",
            "_model_module_version": "1.2.0",
            "_model_name": "LayoutModel",
            "_view_count": null,
            "_view_module": "@jupyter-widgets/base",
            "_view_module_version": "1.2.0",
            "_view_name": "LayoutView",
            "align_content": null,
            "align_items": null,
            "align_self": null,
            "border": null,
            "bottom": null,
            "display": null,
            "flex": null,
            "flex_flow": null,
            "grid_area": null,
            "grid_auto_columns": null,
            "grid_auto_flow": null,
            "grid_auto_rows": null,
            "grid_column": null,
            "grid_gap": null,
            "grid_row": null,
            "grid_template_areas": null,
            "grid_template_columns": null,
            "grid_template_rows": null,
            "height": null,
            "justify_content": null,
            "justify_items": null,
            "left": null,
            "margin": null,
            "max_height": null,
            "max_width": null,
            "min_height": null,
            "min_width": null,
            "object_fit": null,
            "object_position": null,
            "order": null,
            "overflow": null,
            "overflow_x": null,
            "overflow_y": null,
            "padding": null,
            "right": null,
            "top": null,
            "visibility": null,
            "width": null
          }
        },
        "8d14b89349ad4581bef373a3e97411dc": {
          "model_module": "@jupyter-widgets/base",
          "model_name": "LayoutModel",
          "model_module_version": "1.2.0",
          "state": {
            "_model_module": "@jupyter-widgets/base",
            "_model_module_version": "1.2.0",
            "_model_name": "LayoutModel",
            "_view_count": null,
            "_view_module": "@jupyter-widgets/base",
            "_view_module_version": "1.2.0",
            "_view_name": "LayoutView",
            "align_content": null,
            "align_items": null,
            "align_self": null,
            "border": null,
            "bottom": null,
            "display": null,
            "flex": null,
            "flex_flow": null,
            "grid_area": null,
            "grid_auto_columns": null,
            "grid_auto_flow": null,
            "grid_auto_rows": null,
            "grid_column": null,
            "grid_gap": null,
            "grid_row": null,
            "grid_template_areas": null,
            "grid_template_columns": null,
            "grid_template_rows": null,
            "height": null,
            "justify_content": null,
            "justify_items": null,
            "left": null,
            "margin": null,
            "max_height": null,
            "max_width": null,
            "min_height": null,
            "min_width": null,
            "object_fit": null,
            "object_position": null,
            "order": null,
            "overflow": null,
            "overflow_x": null,
            "overflow_y": null,
            "padding": null,
            "right": null,
            "top": null,
            "visibility": null,
            "width": null
          }
        },
        "3396b2043d9b4655a0907606a2ee0437": {
          "model_module": "@jupyter-widgets/controls",
          "model_name": "DescriptionStyleModel",
          "model_module_version": "1.5.0",
          "state": {
            "_model_module": "@jupyter-widgets/controls",
            "_model_module_version": "1.5.0",
            "_model_name": "DescriptionStyleModel",
            "_view_count": null,
            "_view_module": "@jupyter-widgets/base",
            "_view_module_version": "1.2.0",
            "_view_name": "StyleView",
            "description_width": ""
          }
        },
        "7cc1ade476a347d69d8b918cf17a1a30": {
          "model_module": "@jupyter-widgets/base",
          "model_name": "LayoutModel",
          "model_module_version": "1.2.0",
          "state": {
            "_model_module": "@jupyter-widgets/base",
            "_model_module_version": "1.2.0",
            "_model_name": "LayoutModel",
            "_view_count": null,
            "_view_module": "@jupyter-widgets/base",
            "_view_module_version": "1.2.0",
            "_view_name": "LayoutView",
            "align_content": null,
            "align_items": null,
            "align_self": null,
            "border": null,
            "bottom": null,
            "display": null,
            "flex": null,
            "flex_flow": null,
            "grid_area": null,
            "grid_auto_columns": null,
            "grid_auto_flow": null,
            "grid_auto_rows": null,
            "grid_column": null,
            "grid_gap": null,
            "grid_row": null,
            "grid_template_areas": null,
            "grid_template_columns": null,
            "grid_template_rows": null,
            "height": null,
            "justify_content": null,
            "justify_items": null,
            "left": null,
            "margin": null,
            "max_height": null,
            "max_width": null,
            "min_height": null,
            "min_width": null,
            "object_fit": null,
            "object_position": null,
            "order": null,
            "overflow": null,
            "overflow_x": null,
            "overflow_y": null,
            "padding": null,
            "right": null,
            "top": null,
            "visibility": null,
            "width": null
          }
        },
        "b1f8bac8e03340d7b088c59560ce3a46": {
          "model_module": "@jupyter-widgets/controls",
          "model_name": "ProgressStyleModel",
          "model_module_version": "1.5.0",
          "state": {
            "_model_module": "@jupyter-widgets/controls",
            "_model_module_version": "1.5.0",
            "_model_name": "ProgressStyleModel",
            "_view_count": null,
            "_view_module": "@jupyter-widgets/base",
            "_view_module_version": "1.2.0",
            "_view_name": "StyleView",
            "bar_color": null,
            "description_width": ""
          }
        },
        "3f217a1c7d5741509190419ff5832286": {
          "model_module": "@jupyter-widgets/base",
          "model_name": "LayoutModel",
          "model_module_version": "1.2.0",
          "state": {
            "_model_module": "@jupyter-widgets/base",
            "_model_module_version": "1.2.0",
            "_model_name": "LayoutModel",
            "_view_count": null,
            "_view_module": "@jupyter-widgets/base",
            "_view_module_version": "1.2.0",
            "_view_name": "LayoutView",
            "align_content": null,
            "align_items": null,
            "align_self": null,
            "border": null,
            "bottom": null,
            "display": null,
            "flex": null,
            "flex_flow": null,
            "grid_area": null,
            "grid_auto_columns": null,
            "grid_auto_flow": null,
            "grid_auto_rows": null,
            "grid_column": null,
            "grid_gap": null,
            "grid_row": null,
            "grid_template_areas": null,
            "grid_template_columns": null,
            "grid_template_rows": null,
            "height": null,
            "justify_content": null,
            "justify_items": null,
            "left": null,
            "margin": null,
            "max_height": null,
            "max_width": null,
            "min_height": null,
            "min_width": null,
            "object_fit": null,
            "object_position": null,
            "order": null,
            "overflow": null,
            "overflow_x": null,
            "overflow_y": null,
            "padding": null,
            "right": null,
            "top": null,
            "visibility": null,
            "width": null
          }
        },
        "03c12076292346429e0600ff66379bf3": {
          "model_module": "@jupyter-widgets/controls",
          "model_name": "DescriptionStyleModel",
          "model_module_version": "1.5.0",
          "state": {
            "_model_module": "@jupyter-widgets/controls",
            "_model_module_version": "1.5.0",
            "_model_name": "DescriptionStyleModel",
            "_view_count": null,
            "_view_module": "@jupyter-widgets/base",
            "_view_module_version": "1.2.0",
            "_view_name": "StyleView",
            "description_width": ""
          }
        },
        "f498dcd013224a72859c397e5141b1d5": {
          "model_module": "@jupyter-widgets/controls",
          "model_name": "HBoxModel",
          "model_module_version": "1.5.0",
          "state": {
            "_dom_classes": [],
            "_model_module": "@jupyter-widgets/controls",
            "_model_module_version": "1.5.0",
            "_model_name": "HBoxModel",
            "_view_count": null,
            "_view_module": "@jupyter-widgets/controls",
            "_view_module_version": "1.5.0",
            "_view_name": "HBoxView",
            "box_style": "",
            "children": [
              "IPY_MODEL_320e676a7d744dd09ebafab0016602bc",
              "IPY_MODEL_59660836b0b74678a4c3cb1640e2103c",
              "IPY_MODEL_e9ea416adf084ca0adfe6a9d1500fcc1"
            ],
            "layout": "IPY_MODEL_539e0222aa244eb485966e6faab6cf0a"
          }
        },
        "320e676a7d744dd09ebafab0016602bc": {
          "model_module": "@jupyter-widgets/controls",
          "model_name": "HTMLModel",
          "model_module_version": "1.5.0",
          "state": {
            "_dom_classes": [],
            "_model_module": "@jupyter-widgets/controls",
            "_model_module_version": "1.5.0",
            "_model_name": "HTMLModel",
            "_view_count": null,
            "_view_module": "@jupyter-widgets/controls",
            "_view_module_version": "1.5.0",
            "_view_name": "HTMLView",
            "description": "",
            "description_tooltip": null,
            "layout": "IPY_MODEL_f02f57a764324ec6940d29d725cb0e85",
            "placeholder": "​",
            "style": "IPY_MODEL_f4e2b146e7024f62bb5b90a822309bd2",
            "value": "100%"
          }
        },
        "59660836b0b74678a4c3cb1640e2103c": {
          "model_module": "@jupyter-widgets/controls",
          "model_name": "FloatProgressModel",
          "model_module_version": "1.5.0",
          "state": {
            "_dom_classes": [],
            "_model_module": "@jupyter-widgets/controls",
            "_model_module_version": "1.5.0",
            "_model_name": "FloatProgressModel",
            "_view_count": null,
            "_view_module": "@jupyter-widgets/controls",
            "_view_module_version": "1.5.0",
            "_view_name": "ProgressView",
            "bar_style": "success",
            "description": "",
            "description_tooltip": null,
            "layout": "IPY_MODEL_a6825e89f9834c90b9533730362e866b",
            "max": 891,
            "min": 0,
            "orientation": "horizontal",
            "style": "IPY_MODEL_a127ab5508804987ad9b6161f1e74d94",
            "value": 891
          }
        },
        "e9ea416adf084ca0adfe6a9d1500fcc1": {
          "model_module": "@jupyter-widgets/controls",
          "model_name": "HTMLModel",
          "model_module_version": "1.5.0",
          "state": {
            "_dom_classes": [],
            "_model_module": "@jupyter-widgets/controls",
            "_model_module_version": "1.5.0",
            "_model_name": "HTMLModel",
            "_view_count": null,
            "_view_module": "@jupyter-widgets/controls",
            "_view_module_version": "1.5.0",
            "_view_name": "HTMLView",
            "description": "",
            "description_tooltip": null,
            "layout": "IPY_MODEL_09d6e94107b34bd09207fc5b347373bc",
            "placeholder": "​",
            "style": "IPY_MODEL_e82f7ef6764143859ee57e97c3c92602",
            "value": " 891/891 [00:05&lt;00:00, 180.16it/s]"
          }
        },
        "539e0222aa244eb485966e6faab6cf0a": {
          "model_module": "@jupyter-widgets/base",
          "model_name": "LayoutModel",
          "model_module_version": "1.2.0",
          "state": {
            "_model_module": "@jupyter-widgets/base",
            "_model_module_version": "1.2.0",
            "_model_name": "LayoutModel",
            "_view_count": null,
            "_view_module": "@jupyter-widgets/base",
            "_view_module_version": "1.2.0",
            "_view_name": "LayoutView",
            "align_content": null,
            "align_items": null,
            "align_self": null,
            "border": null,
            "bottom": null,
            "display": null,
            "flex": null,
            "flex_flow": null,
            "grid_area": null,
            "grid_auto_columns": null,
            "grid_auto_flow": null,
            "grid_auto_rows": null,
            "grid_column": null,
            "grid_gap": null,
            "grid_row": null,
            "grid_template_areas": null,
            "grid_template_columns": null,
            "grid_template_rows": null,
            "height": null,
            "justify_content": null,
            "justify_items": null,
            "left": null,
            "margin": null,
            "max_height": null,
            "max_width": null,
            "min_height": null,
            "min_width": null,
            "object_fit": null,
            "object_position": null,
            "order": null,
            "overflow": null,
            "overflow_x": null,
            "overflow_y": null,
            "padding": null,
            "right": null,
            "top": null,
            "visibility": null,
            "width": null
          }
        },
        "f02f57a764324ec6940d29d725cb0e85": {
          "model_module": "@jupyter-widgets/base",
          "model_name": "LayoutModel",
          "model_module_version": "1.2.0",
          "state": {
            "_model_module": "@jupyter-widgets/base",
            "_model_module_version": "1.2.0",
            "_model_name": "LayoutModel",
            "_view_count": null,
            "_view_module": "@jupyter-widgets/base",
            "_view_module_version": "1.2.0",
            "_view_name": "LayoutView",
            "align_content": null,
            "align_items": null,
            "align_self": null,
            "border": null,
            "bottom": null,
            "display": null,
            "flex": null,
            "flex_flow": null,
            "grid_area": null,
            "grid_auto_columns": null,
            "grid_auto_flow": null,
            "grid_auto_rows": null,
            "grid_column": null,
            "grid_gap": null,
            "grid_row": null,
            "grid_template_areas": null,
            "grid_template_columns": null,
            "grid_template_rows": null,
            "height": null,
            "justify_content": null,
            "justify_items": null,
            "left": null,
            "margin": null,
            "max_height": null,
            "max_width": null,
            "min_height": null,
            "min_width": null,
            "object_fit": null,
            "object_position": null,
            "order": null,
            "overflow": null,
            "overflow_x": null,
            "overflow_y": null,
            "padding": null,
            "right": null,
            "top": null,
            "visibility": null,
            "width": null
          }
        },
        "f4e2b146e7024f62bb5b90a822309bd2": {
          "model_module": "@jupyter-widgets/controls",
          "model_name": "DescriptionStyleModel",
          "model_module_version": "1.5.0",
          "state": {
            "_model_module": "@jupyter-widgets/controls",
            "_model_module_version": "1.5.0",
            "_model_name": "DescriptionStyleModel",
            "_view_count": null,
            "_view_module": "@jupyter-widgets/base",
            "_view_module_version": "1.2.0",
            "_view_name": "StyleView",
            "description_width": ""
          }
        },
        "a6825e89f9834c90b9533730362e866b": {
          "model_module": "@jupyter-widgets/base",
          "model_name": "LayoutModel",
          "model_module_version": "1.2.0",
          "state": {
            "_model_module": "@jupyter-widgets/base",
            "_model_module_version": "1.2.0",
            "_model_name": "LayoutModel",
            "_view_count": null,
            "_view_module": "@jupyter-widgets/base",
            "_view_module_version": "1.2.0",
            "_view_name": "LayoutView",
            "align_content": null,
            "align_items": null,
            "align_self": null,
            "border": null,
            "bottom": null,
            "display": null,
            "flex": null,
            "flex_flow": null,
            "grid_area": null,
            "grid_auto_columns": null,
            "grid_auto_flow": null,
            "grid_auto_rows": null,
            "grid_column": null,
            "grid_gap": null,
            "grid_row": null,
            "grid_template_areas": null,
            "grid_template_columns": null,
            "grid_template_rows": null,
            "height": null,
            "justify_content": null,
            "justify_items": null,
            "left": null,
            "margin": null,
            "max_height": null,
            "max_width": null,
            "min_height": null,
            "min_width": null,
            "object_fit": null,
            "object_position": null,
            "order": null,
            "overflow": null,
            "overflow_x": null,
            "overflow_y": null,
            "padding": null,
            "right": null,
            "top": null,
            "visibility": null,
            "width": null
          }
        },
        "a127ab5508804987ad9b6161f1e74d94": {
          "model_module": "@jupyter-widgets/controls",
          "model_name": "ProgressStyleModel",
          "model_module_version": "1.5.0",
          "state": {
            "_model_module": "@jupyter-widgets/controls",
            "_model_module_version": "1.5.0",
            "_model_name": "ProgressStyleModel",
            "_view_count": null,
            "_view_module": "@jupyter-widgets/base",
            "_view_module_version": "1.2.0",
            "_view_name": "StyleView",
            "bar_color": null,
            "description_width": ""
          }
        },
        "09d6e94107b34bd09207fc5b347373bc": {
          "model_module": "@jupyter-widgets/base",
          "model_name": "LayoutModel",
          "model_module_version": "1.2.0",
          "state": {
            "_model_module": "@jupyter-widgets/base",
            "_model_module_version": "1.2.0",
            "_model_name": "LayoutModel",
            "_view_count": null,
            "_view_module": "@jupyter-widgets/base",
            "_view_module_version": "1.2.0",
            "_view_name": "LayoutView",
            "align_content": null,
            "align_items": null,
            "align_self": null,
            "border": null,
            "bottom": null,
            "display": null,
            "flex": null,
            "flex_flow": null,
            "grid_area": null,
            "grid_auto_columns": null,
            "grid_auto_flow": null,
            "grid_auto_rows": null,
            "grid_column": null,
            "grid_gap": null,
            "grid_row": null,
            "grid_template_areas": null,
            "grid_template_columns": null,
            "grid_template_rows": null,
            "height": null,
            "justify_content": null,
            "justify_items": null,
            "left": null,
            "margin": null,
            "max_height": null,
            "max_width": null,
            "min_height": null,
            "min_width": null,
            "object_fit": null,
            "object_position": null,
            "order": null,
            "overflow": null,
            "overflow_x": null,
            "overflow_y": null,
            "padding": null,
            "right": null,
            "top": null,
            "visibility": null,
            "width": null
          }
        },
        "e82f7ef6764143859ee57e97c3c92602": {
          "model_module": "@jupyter-widgets/controls",
          "model_name": "DescriptionStyleModel",
          "model_module_version": "1.5.0",
          "state": {
            "_model_module": "@jupyter-widgets/controls",
            "_model_module_version": "1.5.0",
            "_model_name": "DescriptionStyleModel",
            "_view_count": null,
            "_view_module": "@jupyter-widgets/base",
            "_view_module_version": "1.2.0",
            "_view_name": "StyleView",
            "description_width": ""
          }
        }
      }
    },
    "colab": {
      "provenance": [],
      "gpuType": "T4",
      "include_colab_link": true
    },
    "accelerator": "GPU"
  },
  "nbformat": 4,
  "nbformat_minor": 5
}